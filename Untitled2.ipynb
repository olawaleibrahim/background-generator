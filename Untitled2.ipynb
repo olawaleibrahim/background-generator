{
 "cells": [
  {
   "cell_type": "code",
   "execution_count": 1,
   "metadata": {},
   "outputs": [],
   "source": [
    "import numpy as np\n",
    "import pandas as pd\n",
    "import matplotlib.pyplot as plt\n",
    "import seaborn as sns\n",
    "import sklearn.metrics as sklm\n",
    "import xgboost as xgb\n",
    "import matplotlib"
   ]
  },
  {
   "cell_type": "code",
   "execution_count": 2,
   "metadata": {},
   "outputs": [],
   "source": [
    "train = pd.read_csv('train.csv', parse_dates = ['date'])\n",
    "test = pd.read_csv('test.csv', parse_dates = ['date'])\n",
    "submissions = pd.read_csv('SampleSubmission.csv')\n",
    "vd = pd.read_csv('VariableDefinitionsHotspot.csv')"
   ]
  },
  {
   "cell_type": "code",
   "execution_count": 3,
   "metadata": {},
   "outputs": [
    {
     "data": {
      "text/plain": [
       "<matplotlib.axes._subplots.AxesSubplot at 0x1ca81916f28>"
      ]
     },
     "execution_count": 3,
     "metadata": {},
     "output_type": "execute_result"
    },
    {
     "data": {
      "image/png": "[encoded data removed]",
      "text/plain": [
       "<Figure size 432x288 with 1 Axes>"
      ]
     },
     "metadata": {
      "needs_background": "light"
     },
     "output_type": "display_data"
    },
    {
     "data": {
      "image/png": "[encoded data removed]",
      "text/plain": [
       "<Figure size 432x288 with 1 Axes>"
      ]
     },
     "metadata": {
      "needs_background": "light"
     },
     "output_type": "display_data"
    }
   ],
   "source": [
    "# Date variables\n",
    "train['month'] = train.date.dt.month\n",
    "train['year'] = train.date.dt.year\n",
    "\n",
    "# Plotting mean burn_area for each month - very strong mid-year peak (dry season)\n",
    "train.groupby('month').mean().reset_index().plot(y='burn_area', x='year', kind='bar')\n",
    "\n",
    "# Date variables\n",
    "test['month'] = test.date.dt.month\n",
    "test['year'] = test.date.dt.year\n",
    "\n",
    "# Plotting mean burn_area for each month - very strong mid-year peak (dry season)\n",
    "test.groupby('month').mean().reset_index().plot(y='burn_area', x='year', kind='bar')"
   ]
  },
  {
   "cell_type": "code",
   "execution_count": 4,
   "metadata": {},
   "outputs": [],
   "source": [
    "train = train.drop(['population_density', 'ID', 'date'], axis=1)\n",
    "test = test.drop(['population_density', 'ID', 'burn_area', 'date'], axis=1)"
   ]
  },
  {
   "cell_type": "code",
   "execution_count": 5,
   "metadata": {},
   "outputs": [
    {
     "name": "stdout",
     "output_type": "stream",
     "text": [
      "[0.00368827 0.         0.         ... 0.         0.         0.        ]\n"
     ]
    }
   ],
   "source": [
    "Labels = np.array(train['burn_area'])\n",
    "print(Labels)"
   ]
  },
  {
   "cell_type": "code",
   "execution_count": 6,
   "metadata": {},
   "outputs": [],
   "source": [
    "train = train.drop('burn_area', axis=1)"
   ]
  },
  {
   "cell_type": "code",
   "execution_count": 7,
   "metadata": {},
   "outputs": [
    {
     "name": "stdout",
     "output_type": "stream",
     "text": [
      "(626644, 30)\n"
     ]
    }
   ],
   "source": [
    "print(train.shape)"
   ]
  },
  {
   "cell_type": "code",
   "execution_count": 8,
   "metadata": {},
   "outputs": [
    {
     "name": "stdout",
     "output_type": "stream",
     "text": [
      "(137556, 30)\n"
     ]
    }
   ],
   "source": [
    "print(test.shape)"
   ]
  },
  {
   "cell_type": "code",
   "execution_count": 9,
   "metadata": {},
   "outputs": [],
   "source": [
    "Features = np.array(train)\n",
    "test_enc = np.array(test)"
   ]
  },
  {
   "cell_type": "code",
   "execution_count": 10,
   "metadata": {},
   "outputs": [
    {
     "name": "stdout",
     "output_type": "stream",
     "text": [
      "[[-1.73159757  0.43753111  1.85451289 ...  0.1322863  -0.75212307\n",
      "  -1.68075649]\n",
      " [-1.73069097  0.49456614  1.85383075 ...  0.04842358 -0.75212307\n",
      "  -1.68075649]\n",
      " [-1.72978438  0.43650345  1.80403446 ...  0.23004017 -0.75212307\n",
      "  -1.68075649]\n",
      " ...\n",
      " [ 1.72978438  1.48445787 -2.34861303 ...  1.04469196  1.57520115\n",
      "   1.60372824]\n",
      " [ 1.73069097  1.54174981 -2.34565709 ...  0.77124435  1.57520115\n",
      "   1.60372824]\n",
      " [ 1.73159757  1.5450897  -2.39522601 ...  0.63133742  1.57520115\n",
      "   1.60372824]]\n"
     ]
    }
   ],
   "source": [
    "from sklearn import preprocessing\n",
    "\n",
    "scaler = preprocessing.StandardScaler().fit(Features[:, :])\n",
    "Features[:, :] = scaler.transform(Features[:, :])\n",
    "print(Features[:, :])"
   ]
  },
  {
   "cell_type": "code",
   "execution_count": 11,
   "metadata": {},
   "outputs": [],
   "source": [
    "test_enc = np.array(test)\n",
    "\n",
    "scaler1 = preprocessing.StandardScaler().fit(test_enc[:, :])\n",
    "test_enc[:, :] = scaler1.transform(test_enc[:, :])\n",
    "#print(test_enc[:, :])"
   ]
  },
  {
   "cell_type": "code",
   "execution_count": 13,
   "metadata": {},
   "outputs": [],
   "source": [
    "import numpy.random as nr\n",
    "import sklearn.model_selection as ms\n",
    "## Randomly sample cases to create independent training and test data\n",
    "nr.seed(99880)\n",
    "indx = range(Features.shape[0])\n",
    "indx = ms.train_test_split(indx, test_size = 0.2)\n",
    "x_train = Features[indx[0],:]\n",
    "y_train = np.ravel(Labels[indx[0]])\n",
    "x_test = Features[indx[1],:]\n",
    "y_test = np.ravel(Labels[indx[1]])"
   ]
  },
  {
   "cell_type": "code",
   "execution_count": 14,
   "metadata": {},
   "outputs": [],
   "source": [
    "indx1 = range(x_train.shape[0])\n",
    "indx1 = ms.train_test_split(indx1, test_size = 0.2)\n",
    "x_train1 = x_train[indx1[0],:]\n",
    "y_train1 = np.ravel(y_train[indx1[0]])\n",
    "x_train_val = x_train[indx1[1],:]\n",
    "y_train_val = np.ravel(y_train[indx1[1]])"
   ]
  },
  {
   "cell_type": "code",
   "execution_count": 15,
   "metadata": {},
   "outputs": [
    {
     "name": "stdout",
     "output_type": "stream",
     "text": [
      "[0]\tvalidation_0-rmse:0.61493\tvalidation_1-rmse:0.61503\n",
      "Multiple eval metrics have been passed: 'validation_1-rmse' will be used for early stopping.\n",
      "\n",
      "Will train until validation_1-rmse hasn't improved in 10 rounds.\n",
      "[1]\tvalidation_0-rmse:0.55202\tvalidation_1-rmse:0.55211\n",
      "[2]\tvalidation_0-rmse:0.49655\tvalidation_1-rmse:0.49660\n",
      "[3]\tvalidation_0-rmse:0.44740\tvalidation_1-rmse:0.44733\n",
      "[4]\tvalidation_0-rmse:0.40356\tvalidation_1-rmse:0.40337\n",
      "[5]\tvalidation_0-rmse:0.36426\tvalidation_1-rmse:0.36412\n",
      "[6]\tvalidation_0-rmse:0.32894\tvalidation_1-rmse:0.32888\n",
      "[7]\tvalidation_0-rmse:0.29728\tvalidation_1-rmse:0.29726\n",
      "[8]\tvalidation_0-rmse:0.26881\tvalidation_1-rmse:0.26879\n",
      "[9]\tvalidation_0-rmse:0.24319\tvalidation_1-rmse:0.24328\n",
      "[10]\tvalidation_0-rmse:0.22030\tvalidation_1-rmse:0.22031\n",
      "[11]\tvalidation_0-rmse:0.19959\tvalidation_1-rmse:0.19967\n",
      "[12]\tvalidation_0-rmse:0.18097\tvalidation_1-rmse:0.18109\n",
      "[13]\tvalidation_0-rmse:0.16432\tvalidation_1-rmse:0.16441\n",
      "[14]\tvalidation_0-rmse:0.14927\tvalidation_1-rmse:0.14940\n",
      "[15]\tvalidation_0-rmse:0.13583\tvalidation_1-rmse:0.13592\n",
      "[16]\tvalidation_0-rmse:0.12369\tvalidation_1-rmse:0.12384\n",
      "[17]\tvalidation_0-rmse:0.11282\tvalidation_1-rmse:0.11304\n",
      "[18]\tvalidation_0-rmse:0.10307\tvalidation_1-rmse:0.10335\n",
      "[19]\tvalidation_0-rmse:0.09438\tvalidation_1-rmse:0.09469\n",
      "[20]\tvalidation_0-rmse:0.08661\tvalidation_1-rmse:0.08699\n",
      "[21]\tvalidation_0-rmse:0.07974\tvalidation_1-rmse:0.08014\n",
      "[22]\tvalidation_0-rmse:0.07364\tvalidation_1-rmse:0.07407\n",
      "[23]\tvalidation_0-rmse:0.06821\tvalidation_1-rmse:0.06871\n",
      "[24]\tvalidation_0-rmse:0.06342\tvalidation_1-rmse:0.06396\n",
      "[25]\tvalidation_0-rmse:0.05926\tvalidation_1-rmse:0.05984\n",
      "[26]\tvalidation_0-rmse:0.05559\tvalidation_1-rmse:0.05622\n",
      "[27]\tvalidation_0-rmse:0.05239\tvalidation_1-rmse:0.05308\n",
      "[28]\tvalidation_0-rmse:0.04961\tvalidation_1-rmse:0.05035\n",
      "[29]\tvalidation_0-rmse:0.04718\tvalidation_1-rmse:0.04797\n",
      "[30]\tvalidation_0-rmse:0.04511\tvalidation_1-rmse:0.04593\n",
      "[31]\tvalidation_0-rmse:0.04333\tvalidation_1-rmse:0.04420\n",
      "[32]\tvalidation_0-rmse:0.04181\tvalidation_1-rmse:0.04273\n",
      "[33]\tvalidation_0-rmse:0.04039\tvalidation_1-rmse:0.04135\n",
      "[34]\tvalidation_0-rmse:0.03924\tvalidation_1-rmse:0.04026\n",
      "[35]\tvalidation_0-rmse:0.03826\tvalidation_1-rmse:0.03932\n",
      "[36]\tvalidation_0-rmse:0.03750\tvalidation_1-rmse:0.03859\n",
      "[37]\tvalidation_0-rmse:0.03678\tvalidation_1-rmse:0.03791\n",
      "[38]\tvalidation_0-rmse:0.03615\tvalidation_1-rmse:0.03733\n",
      "[39]\tvalidation_0-rmse:0.03558\tvalidation_1-rmse:0.03678\n",
      "[40]\tvalidation_0-rmse:0.03509\tvalidation_1-rmse:0.03633\n",
      "[41]\tvalidation_0-rmse:0.03476\tvalidation_1-rmse:0.03601\n",
      "[42]\tvalidation_0-rmse:0.03436\tvalidation_1-rmse:0.03563\n",
      "[43]\tvalidation_0-rmse:0.03398\tvalidation_1-rmse:0.03528\n",
      "[44]\tvalidation_0-rmse:0.03374\tvalidation_1-rmse:0.03505\n",
      "[45]\tvalidation_0-rmse:0.03341\tvalidation_1-rmse:0.03476\n",
      "[46]\tvalidation_0-rmse:0.03317\tvalidation_1-rmse:0.03453\n",
      "[47]\tvalidation_0-rmse:0.03305\tvalidation_1-rmse:0.03442\n",
      "[48]\tvalidation_0-rmse:0.03286\tvalidation_1-rmse:0.03427\n",
      "[49]\tvalidation_0-rmse:0.03270\tvalidation_1-rmse:0.03411\n",
      "[50]\tvalidation_0-rmse:0.03247\tvalidation_1-rmse:0.03391\n",
      "[51]\tvalidation_0-rmse:0.03242\tvalidation_1-rmse:0.03386\n",
      "[52]\tvalidation_0-rmse:0.03229\tvalidation_1-rmse:0.03377\n",
      "[53]\tvalidation_0-rmse:0.03216\tvalidation_1-rmse:0.03366\n",
      "[54]\tvalidation_0-rmse:0.03208\tvalidation_1-rmse:0.03360\n",
      "[55]\tvalidation_0-rmse:0.03205\tvalidation_1-rmse:0.03357\n",
      "[56]\tvalidation_0-rmse:0.03191\tvalidation_1-rmse:0.03346\n",
      "[57]\tvalidation_0-rmse:0.03186\tvalidation_1-rmse:0.03340\n",
      "[58]\tvalidation_0-rmse:0.03173\tvalidation_1-rmse:0.03332\n",
      "[59]\tvalidation_0-rmse:0.03165\tvalidation_1-rmse:0.03325\n",
      "[60]\tvalidation_0-rmse:0.03152\tvalidation_1-rmse:0.03314\n",
      "[61]\tvalidation_0-rmse:0.03140\tvalidation_1-rmse:0.03304\n",
      "[62]\tvalidation_0-rmse:0.03131\tvalidation_1-rmse:0.03297\n",
      "[63]\tvalidation_0-rmse:0.03118\tvalidation_1-rmse:0.03285\n",
      "[64]\tvalidation_0-rmse:0.03112\tvalidation_1-rmse:0.03280\n",
      "[65]\tvalidation_0-rmse:0.03104\tvalidation_1-rmse:0.03273\n",
      "[66]\tvalidation_0-rmse:0.03097\tvalidation_1-rmse:0.03268\n",
      "[67]\tvalidation_0-rmse:0.03094\tvalidation_1-rmse:0.03265\n",
      "[68]\tvalidation_0-rmse:0.03089\tvalidation_1-rmse:0.03260\n",
      "[69]\tvalidation_0-rmse:0.03074\tvalidation_1-rmse:0.03247\n",
      "[70]\tvalidation_0-rmse:0.03065\tvalidation_1-rmse:0.03239\n",
      "[71]\tvalidation_0-rmse:0.03064\tvalidation_1-rmse:0.03238\n",
      "[72]\tvalidation_0-rmse:0.03055\tvalidation_1-rmse:0.03232\n",
      "[73]\tvalidation_0-rmse:0.03046\tvalidation_1-rmse:0.03224\n",
      "[74]\tvalidation_0-rmse:0.03041\tvalidation_1-rmse:0.03220\n",
      "[75]\tvalidation_0-rmse:0.03036\tvalidation_1-rmse:0.03216\n",
      "[76]\tvalidation_0-rmse:0.03027\tvalidation_1-rmse:0.03208\n",
      "[77]\tvalidation_0-rmse:0.03022\tvalidation_1-rmse:0.03205\n",
      "[78]\tvalidation_0-rmse:0.03013\tvalidation_1-rmse:0.03198\n",
      "[79]\tvalidation_0-rmse:0.03008\tvalidation_1-rmse:0.03194\n",
      "[80]\tvalidation_0-rmse:0.03003\tvalidation_1-rmse:0.03190\n",
      "[81]\tvalidation_0-rmse:0.02992\tvalidation_1-rmse:0.03182\n",
      "[82]\tvalidation_0-rmse:0.02982\tvalidation_1-rmse:0.03174\n",
      "[83]\tvalidation_0-rmse:0.02975\tvalidation_1-rmse:0.03168\n",
      "[84]\tvalidation_0-rmse:0.02958\tvalidation_1-rmse:0.03154\n",
      "[85]\tvalidation_0-rmse:0.02954\tvalidation_1-rmse:0.03152\n",
      "[86]\tvalidation_0-rmse:0.02941\tvalidation_1-rmse:0.03139\n",
      "[87]\tvalidation_0-rmse:0.02932\tvalidation_1-rmse:0.03132\n",
      "[88]\tvalidation_0-rmse:0.02929\tvalidation_1-rmse:0.03130\n",
      "[89]\tvalidation_0-rmse:0.02921\tvalidation_1-rmse:0.03123\n",
      "[90]\tvalidation_0-rmse:0.02919\tvalidation_1-rmse:0.03122\n",
      "[91]\tvalidation_0-rmse:0.02909\tvalidation_1-rmse:0.03114\n",
      "[92]\tvalidation_0-rmse:0.02898\tvalidation_1-rmse:0.03104\n",
      "[93]\tvalidation_0-rmse:0.02888\tvalidation_1-rmse:0.03096\n",
      "[94]\tvalidation_0-rmse:0.02881\tvalidation_1-rmse:0.03090\n",
      "[95]\tvalidation_0-rmse:0.02879\tvalidation_1-rmse:0.03089\n",
      "[96]\tvalidation_0-rmse:0.02867\tvalidation_1-rmse:0.03077\n",
      "[97]\tvalidation_0-rmse:0.02857\tvalidation_1-rmse:0.03070\n",
      "[98]\tvalidation_0-rmse:0.02843\tvalidation_1-rmse:0.03061\n",
      "[99]\tvalidation_0-rmse:0.02834\tvalidation_1-rmse:0.03055\n",
      "[100]\tvalidation_0-rmse:0.02833\tvalidation_1-rmse:0.03054\n",
      "[101]\tvalidation_0-rmse:0.02824\tvalidation_1-rmse:0.03048\n",
      "[102]\tvalidation_0-rmse:0.02816\tvalidation_1-rmse:0.03042\n",
      "[103]\tvalidation_0-rmse:0.02797\tvalidation_1-rmse:0.03030\n",
      "[104]\tvalidation_0-rmse:0.02783\tvalidation_1-rmse:0.03019\n",
      "[105]\tvalidation_0-rmse:0.02779\tvalidation_1-rmse:0.03016\n",
      "[106]\tvalidation_0-rmse:0.02762\tvalidation_1-rmse:0.03002\n",
      "[107]\tvalidation_0-rmse:0.02749\tvalidation_1-rmse:0.02992\n",
      "[108]\tvalidation_0-rmse:0.02722\tvalidation_1-rmse:0.02972\n",
      "[109]\tvalidation_0-rmse:0.02706\tvalidation_1-rmse:0.02959\n",
      "[110]\tvalidation_0-rmse:0.02700\tvalidation_1-rmse:0.02952\n",
      "[111]\tvalidation_0-rmse:0.02695\tvalidation_1-rmse:0.02948\n",
      "[112]\tvalidation_0-rmse:0.02669\tvalidation_1-rmse:0.02927\n",
      "[113]\tvalidation_0-rmse:0.02664\tvalidation_1-rmse:0.02924\n",
      "[114]\tvalidation_0-rmse:0.02655\tvalidation_1-rmse:0.02915\n",
      "[115]\tvalidation_0-rmse:0.02645\tvalidation_1-rmse:0.02906\n",
      "[116]\tvalidation_0-rmse:0.02635\tvalidation_1-rmse:0.02901\n",
      "[117]\tvalidation_0-rmse:0.02627\tvalidation_1-rmse:0.02894\n",
      "[118]\tvalidation_0-rmse:0.02611\tvalidation_1-rmse:0.02884\n",
      "[119]\tvalidation_0-rmse:0.02608\tvalidation_1-rmse:0.02883\n",
      "[120]\tvalidation_0-rmse:0.02585\tvalidation_1-rmse:0.02871\n",
      "[121]\tvalidation_0-rmse:0.02581\tvalidation_1-rmse:0.02868\n",
      "[122]\tvalidation_0-rmse:0.02576\tvalidation_1-rmse:0.02865\n",
      "[123]\tvalidation_0-rmse:0.02566\tvalidation_1-rmse:0.02857\n",
      "[124]\tvalidation_0-rmse:0.02555\tvalidation_1-rmse:0.02849\n",
      "[125]\tvalidation_0-rmse:0.02552\tvalidation_1-rmse:0.02847\n",
      "[126]\tvalidation_0-rmse:0.02536\tvalidation_1-rmse:0.02836\n",
      "[127]\tvalidation_0-rmse:0.02530\tvalidation_1-rmse:0.02832\n",
      "[128]\tvalidation_0-rmse:0.02509\tvalidation_1-rmse:0.02816\n",
      "[129]\tvalidation_0-rmse:0.02501\tvalidation_1-rmse:0.02812\n",
      "[130]\tvalidation_0-rmse:0.02491\tvalidation_1-rmse:0.02804\n",
      "[131]\tvalidation_0-rmse:0.02488\tvalidation_1-rmse:0.02801\n",
      "[132]\tvalidation_0-rmse:0.02475\tvalidation_1-rmse:0.02793\n",
      "[133]\tvalidation_0-rmse:0.02472\tvalidation_1-rmse:0.02791\n",
      "[134]\tvalidation_0-rmse:0.02460\tvalidation_1-rmse:0.02784\n",
      "[135]\tvalidation_0-rmse:0.02455\tvalidation_1-rmse:0.02780\n",
      "[136]\tvalidation_0-rmse:0.02451\tvalidation_1-rmse:0.02777\n",
      "[137]\tvalidation_0-rmse:0.02436\tvalidation_1-rmse:0.02766\n",
      "[138]\tvalidation_0-rmse:0.02431\tvalidation_1-rmse:0.02762\n",
      "[139]\tvalidation_0-rmse:0.02422\tvalidation_1-rmse:0.02756\n",
      "[140]\tvalidation_0-rmse:0.02402\tvalidation_1-rmse:0.02743\n"
     ]
    },
    {
     "name": "stdout",
     "output_type": "stream",
     "text": [
      "[141]\tvalidation_0-rmse:0.02394\tvalidation_1-rmse:0.02738\n",
      "[142]\tvalidation_0-rmse:0.02390\tvalidation_1-rmse:0.02736\n",
      "[143]\tvalidation_0-rmse:0.02376\tvalidation_1-rmse:0.02727\n",
      "[144]\tvalidation_0-rmse:0.02370\tvalidation_1-rmse:0.02725\n",
      "[145]\tvalidation_0-rmse:0.02366\tvalidation_1-rmse:0.02721\n",
      "[146]\tvalidation_0-rmse:0.02362\tvalidation_1-rmse:0.02719\n",
      "[147]\tvalidation_0-rmse:0.02354\tvalidation_1-rmse:0.02714\n",
      "[148]\tvalidation_0-rmse:0.02346\tvalidation_1-rmse:0.02710\n",
      "[149]\tvalidation_0-rmse:0.02345\tvalidation_1-rmse:0.02709\n",
      "[150]\tvalidation_0-rmse:0.02336\tvalidation_1-rmse:0.02702\n",
      "[151]\tvalidation_0-rmse:0.02331\tvalidation_1-rmse:0.02698\n",
      "[152]\tvalidation_0-rmse:0.02326\tvalidation_1-rmse:0.02695\n",
      "[153]\tvalidation_0-rmse:0.02316\tvalidation_1-rmse:0.02685\n",
      "[154]\tvalidation_0-rmse:0.02310\tvalidation_1-rmse:0.02683\n",
      "[155]\tvalidation_0-rmse:0.02308\tvalidation_1-rmse:0.02683\n",
      "[156]\tvalidation_0-rmse:0.02291\tvalidation_1-rmse:0.02671\n",
      "[157]\tvalidation_0-rmse:0.02285\tvalidation_1-rmse:0.02667\n",
      "[158]\tvalidation_0-rmse:0.02280\tvalidation_1-rmse:0.02664\n",
      "[159]\tvalidation_0-rmse:0.02277\tvalidation_1-rmse:0.02663\n",
      "[160]\tvalidation_0-rmse:0.02272\tvalidation_1-rmse:0.02661\n",
      "[161]\tvalidation_0-rmse:0.02261\tvalidation_1-rmse:0.02655\n",
      "[162]\tvalidation_0-rmse:0.02256\tvalidation_1-rmse:0.02652\n",
      "[163]\tvalidation_0-rmse:0.02252\tvalidation_1-rmse:0.02650\n",
      "[164]\tvalidation_0-rmse:0.02238\tvalidation_1-rmse:0.02641\n",
      "[165]\tvalidation_0-rmse:0.02227\tvalidation_1-rmse:0.02633\n",
      "[166]\tvalidation_0-rmse:0.02225\tvalidation_1-rmse:0.02632\n",
      "[167]\tvalidation_0-rmse:0.02221\tvalidation_1-rmse:0.02630\n",
      "[168]\tvalidation_0-rmse:0.02217\tvalidation_1-rmse:0.02628\n",
      "[169]\tvalidation_0-rmse:0.02215\tvalidation_1-rmse:0.02626\n",
      "[170]\tvalidation_0-rmse:0.02209\tvalidation_1-rmse:0.02623\n",
      "[171]\tvalidation_0-rmse:0.02206\tvalidation_1-rmse:0.02621\n",
      "[172]\tvalidation_0-rmse:0.02198\tvalidation_1-rmse:0.02615\n",
      "[173]\tvalidation_0-rmse:0.02192\tvalidation_1-rmse:0.02611\n",
      "[174]\tvalidation_0-rmse:0.02184\tvalidation_1-rmse:0.02606\n",
      "[175]\tvalidation_0-rmse:0.02182\tvalidation_1-rmse:0.02605\n",
      "[176]\tvalidation_0-rmse:0.02171\tvalidation_1-rmse:0.02598\n",
      "[177]\tvalidation_0-rmse:0.02167\tvalidation_1-rmse:0.02595\n",
      "[178]\tvalidation_0-rmse:0.02160\tvalidation_1-rmse:0.02591\n",
      "[179]\tvalidation_0-rmse:0.02156\tvalidation_1-rmse:0.02589\n",
      "[180]\tvalidation_0-rmse:0.02149\tvalidation_1-rmse:0.02586\n",
      "[181]\tvalidation_0-rmse:0.02148\tvalidation_1-rmse:0.02586\n",
      "[182]\tvalidation_0-rmse:0.02143\tvalidation_1-rmse:0.02584\n",
      "[183]\tvalidation_0-rmse:0.02135\tvalidation_1-rmse:0.02579\n",
      "[184]\tvalidation_0-rmse:0.02131\tvalidation_1-rmse:0.02576\n",
      "[185]\tvalidation_0-rmse:0.02127\tvalidation_1-rmse:0.02573\n",
      "[186]\tvalidation_0-rmse:0.02116\tvalidation_1-rmse:0.02568\n",
      "[187]\tvalidation_0-rmse:0.02108\tvalidation_1-rmse:0.02563\n",
      "[188]\tvalidation_0-rmse:0.02105\tvalidation_1-rmse:0.02562\n",
      "[189]\tvalidation_0-rmse:0.02098\tvalidation_1-rmse:0.02557\n",
      "[190]\tvalidation_0-rmse:0.02095\tvalidation_1-rmse:0.02555\n",
      "[191]\tvalidation_0-rmse:0.02091\tvalidation_1-rmse:0.02552\n",
      "[192]\tvalidation_0-rmse:0.02087\tvalidation_1-rmse:0.02549\n",
      "[193]\tvalidation_0-rmse:0.02080\tvalidation_1-rmse:0.02546\n",
      "[194]\tvalidation_0-rmse:0.02079\tvalidation_1-rmse:0.02546\n",
      "[195]\tvalidation_0-rmse:0.02071\tvalidation_1-rmse:0.02541\n",
      "[196]\tvalidation_0-rmse:0.02067\tvalidation_1-rmse:0.02539\n",
      "[197]\tvalidation_0-rmse:0.02065\tvalidation_1-rmse:0.02539\n",
      "[198]\tvalidation_0-rmse:0.02065\tvalidation_1-rmse:0.02539\n",
      "[199]\tvalidation_0-rmse:0.02061\tvalidation_1-rmse:0.02537\n"
     ]
    },
    {
     "data": {
      "text/plain": [
       "XGBRegressor(base_score=0.7, booster='gbtree', colsample_bylevel=1,\n",
       "       colsample_bynode=1, colsample_bytree=1, gamma=0, gpu_id=-1,\n",
       "       importance_type='gain', interaction_constraints=None,\n",
       "       learning_rate=0.1, max_delta_step=0, max_depth=8,\n",
       "       min_child_weight=1, missing=nan, monotone_constraints=None,\n",
       "       n_estimators=200, n_jobs=0, num_parallel_tree=1,\n",
       "       objective='reg:logistic', random_state=123, reg_alpha=0,\n",
       "       reg_lambda=0.03, scale_pos_weight=1, seed=123, subsample=0.8,\n",
       "       tree_method=None, validate_parameters=False, verbosity=None)"
      ]
     },
     "execution_count": 15,
     "metadata": {},
     "output_type": "execute_result"
    }
   ],
   "source": [
    "xg_reg = xgb.XGBRegressor(objective = 'reg:logistic', n_estimators = 200, seed = 123, max_depth = 8,\n",
    "                           learning_rate=0.1, booster = 'gbtree', base_score = 0.7, subsample = 0.8,\n",
    "                           reg_lambda = 0.03)\n",
    "\n",
    "eval_set = [(x_train1, y_train1), (x_test, y_test)]\n",
    "xg_reg.fit(x_train1, y_train1, eval_metric=\"rmse\", eval_set=eval_set, verbose=True, early_stopping_rounds = 10)"
   ]
  },
  {
   "cell_type": "code",
   "execution_count": 16,
   "metadata": {},
   "outputs": [],
   "source": [
    "preds = xg_reg.predict(x_train_val)"
   ]
  },
  {
   "cell_type": "code",
   "execution_count": 20,
   "metadata": {},
   "outputs": [
    {
     "data": {
      "text/plain": [
       "0.025004494402654523"
      ]
     },
     "execution_count": 20,
     "metadata": {},
     "output_type": "execute_result"
    }
   ],
   "source": [
    "from sklearn.metrics import mean_squared_error\n",
    "\n",
    "mean_squared_error(y_train_val, preds)**0.5"
   ]
  },
  {
   "cell_type": "code",
   "execution_count": 18,
   "metadata": {},
   "outputs": [],
   "source": [
    "test_pred = xg_reg.predict(test_enc)"
   ]
  },
  {
   "cell_type": "code",
   "execution_count": 19,
   "metadata": {},
   "outputs": [],
   "source": [
    "submissions.Prediction = test_pred\n",
    "submissions.to_csv('HotspotSubmission1.csv', index=False)"
   ]
  },
  {
   "cell_type": "code",
   "execution_count": 1,
   "metadata": {},
   "outputs": [
    {
     "data": {
      "text/plain": [
       "0.15812809491881738"
      ]
     },
     "execution_count": 1,
     "metadata": {},
     "output_type": "execute_result"
    }
   ],
   "source": [
    "0.025004494402654523**0.5"
   ]
  },
  {
   "cell_type": "code",
   "execution_count": null,
   "metadata": {},
   "outputs": [],
   "source": []
  }
 ],
 "metadata": {
  "kernelspec": {
   "display_name": "Python 3",
   "language": "python",
   "name": "python3"
  },
  "language_info": {
   "codemirror_mode": {
    "name": "ipython",
    "version": 3
   },
   "file_extension": ".py",
   "mimetype": "text/x-python",
   "name": "python",
   "nbconvert_exporter": "python",
   "pygments_lexer": "ipython3",
   "version": "3.7.0"
  }
 },
 "nbformat": 4,
 "nbformat_minor": 2
}
