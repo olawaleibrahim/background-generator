{
 "cells": [
  {
   "cell_type": "code",
   "execution_count": 1,
   "metadata": {},
   "outputs": [],
   "source": [
    "import numpy as np\n",
    "import pandas as pd\n",
    "import matplotlib.pyplot as plt\n",
    "import seaborn as sns\n",
    "import sklearn.metrics as sklm\n",
    "import xgboost as xgb\n",
    "import matplotlib"
   ]
  },
  {
   "cell_type": "code",
   "execution_count": 2,
   "metadata": {},
   "outputs": [],
   "source": [
    "train = pd.read_csv('train.csv', parse_dates = ['date'])\n",
    "test = pd.read_csv('test.csv', parse_dates = ['date'])\n",
    "submissions = pd.read_csv('SampleSubmission.csv')\n",
    "vd = pd.read_csv('VariableDefinitionsHotspot.csv')"
   ]
  },
  {
   "cell_type": "code",
   "execution_count": 3,
   "metadata": {},
   "outputs": [
    {
     "data": {
      "text/plain": [
       "<matplotlib.axes._subplots.AxesSubplot at 0x1252f432198>"
      ]
     },
     "execution_count": 3,
     "metadata": {},
     "output_type": "execute_result"
    },
    {
     "data": {
      "image/png": "[encoded data removed]",
      "text/plain": [
       "<Figure size 432x288 with 1 Axes>"
      ]
     },
     "metadata": {
      "needs_background": "light"
     },
     "output_type": "display_data"
    },
    {
     "data": {
      "image/png": "[encoded data removed]",
      "text/plain": [
       "<Figure size 432x288 with 1 Axes>"
      ]
     },
     "metadata": {
      "needs_background": "light"
     },
     "output_type": "display_data"
    }
   ],
   "source": [
    "# Date variables\n",
    "train['month'] = train.date.dt.month\n",
    "train['year'] = train.date.dt.year\n",
    "\n",
    "# Plotting mean burn_area for each month - very strong mid-year peak (dry season)\n",
    "train.groupby('month').mean().reset_index().plot(y='burn_area', x='year', kind='bar')\n",
    "\n",
    "# Date variables\n",
    "test['month'] = test.date.dt.month\n",
    "test['year'] = test.date.dt.year\n",
    "\n",
    "# Plotting mean burn_area for each month - very strong mid-year peak (dry season)\n",
    "test.groupby('month').mean().reset_index().plot(y='burn_area', x='year', kind='bar')"
   ]
  },
  {
   "cell_type": "code",
   "execution_count": 4,
   "metadata": {},
   "outputs": [
    {
     "name": "stdout",
     "output_type": "stream",
     "text": [
      "Index(['ID', 'area', 'date', 'lat', 'lon', 'burn_area', 'climate_aet',\n",
      "       'climate_def', 'climate_pdsi', 'climate_pet', 'climate_pr',\n",
      "       'climate_ro', 'climate_soil', 'climate_srad', 'climate_swe',\n",
      "       'climate_tmmn', 'climate_tmmx', 'climate_vap', 'climate_vpd',\n",
      "       'climate_vs', 'elevation', 'landcover_0', 'landcover_1', 'landcover_2',\n",
      "       'landcover_3', 'landcover_4', 'landcover_5', 'landcover_6',\n",
      "       'landcover_7', 'landcover_8', 'population_density', 'precipitation',\n",
      "       'month', 'year'],\n",
      "      dtype='object')\n"
     ]
    }
   ],
   "source": [
    "print(train.columns)\n",
    "\n",
    "train = train.drop(['population_density', 'ID', 'date', 'climate_swe', 'landcover_0',\n",
    "                    'landcover_1', 'landcover_2', 'landcover_3', 'landcover_5', 'landcover_6',\n",
    "                    'landcover_7', 'landcover_8'], axis=1)\n",
    "test = test.drop(['population_density', 'ID', 'burn_area', 'date', 'climate_swe', 'landcover_0','landcover_1', \n",
    "                  'landcover_2', 'landcover_3', 'landcover_5', 'landcover_6','landcover_7', 'landcover_8'], axis=1)"
   ]
  },
  {
   "cell_type": "code",
   "execution_count": 5,
   "metadata": {},
   "outputs": [
    {
     "name": "stdout",
     "output_type": "stream",
     "text": [
      "(626644, 22)\n",
      "(137556, 21)\n"
     ]
    }
   ],
   "source": [
    "print(train.shape)\n",
    "print(test.shape)"
   ]
  },
  {
   "cell_type": "code",
   "execution_count": 6,
   "metadata": {},
   "outputs": [
    {
     "name": "stdout",
     "output_type": "stream",
     "text": [
      "Index(['area', 'lat', 'lon', 'burn_area', 'climate_aet', 'climate_def',\n",
      "       'climate_pdsi', 'climate_pet', 'climate_pr', 'climate_ro',\n",
      "       'climate_soil', 'climate_srad', 'climate_tmmn', 'climate_tmmx',\n",
      "       'climate_vap', 'climate_vpd', 'climate_vs', 'elevation', 'landcover_4',\n",
      "       'precipitation', 'month', 'year'],\n",
      "      dtype='object')\n",
      "Index(['area', 'lat', 'lon', 'climate_aet', 'climate_def', 'climate_pdsi',\n",
      "       'climate_pet', 'climate_pr', 'climate_ro', 'climate_soil',\n",
      "       'climate_srad', 'climate_tmmn', 'climate_tmmx', 'climate_vap',\n",
      "       'climate_vpd', 'climate_vs', 'elevation', 'landcover_4',\n",
      "       'precipitation', 'month', 'year'],\n",
      "      dtype='object')\n"
     ]
    }
   ],
   "source": [
    "print(train.columns)\n",
    "print(test.columns)"
   ]
  },
  {
   "cell_type": "code",
   "execution_count": 7,
   "metadata": {},
   "outputs": [
    {
     "name": "stdout",
     "output_type": "stream",
     "text": [
      "[0.00368827 0.         0.         ... 0.         0.         0.        ]\n"
     ]
    }
   ],
   "source": [
    "Labels = np.array(train['burn_area'])\n",
    "print(Labels)"
   ]
  },
  {
   "cell_type": "code",
   "execution_count": 8,
   "metadata": {},
   "outputs": [],
   "source": [
    "train = train.drop('burn_area', axis=1)"
   ]
  },
  {
   "cell_type": "code",
   "execution_count": 9,
   "metadata": {},
   "outputs": [],
   "source": [
    "Features = np.array(train)\n",
    "test_enc = np.array(test)"
   ]
  },
  {
   "cell_type": "code",
   "execution_count": 10,
   "metadata": {},
   "outputs": [
    {
     "name": "stdout",
     "output_type": "stream",
     "text": [
      "[[-1.73159757  0.43753111  1.85451289 ...  0.1322863  -0.75212307\n",
      "  -1.68075649]\n",
      " [-1.73069097  0.49456614  1.85383075 ...  0.04842358 -0.75212307\n",
      "  -1.68075649]\n",
      " [-1.72978438  0.43650345  1.80403446 ...  0.23004017 -0.75212307\n",
      "  -1.68075649]\n",
      " ...\n",
      " [ 1.72978438  1.48445787 -2.34861303 ...  1.04469196  1.57520115\n",
      "   1.60372824]\n",
      " [ 1.73069097  1.54174981 -2.34565709 ...  0.77124435  1.57520115\n",
      "   1.60372824]\n",
      " [ 1.73159757  1.5450897  -2.39522601 ...  0.63133742  1.57520115\n",
      "   1.60372824]]\n"
     ]
    }
   ],
   "source": [
    "from sklearn import preprocessing\n",
    "\n",
    "scaler = preprocessing.StandardScaler().fit(Features[:, :])\n",
    "Features[:, :] = scaler.transform(Features[:, :])\n",
    "print(Features[:, :])"
   ]
  },
  {
   "cell_type": "code",
   "execution_count": 11,
   "metadata": {},
   "outputs": [],
   "source": [
    "scaler1 = preprocessing.StandardScaler().fit(test_enc[:, :])\n",
    "test_enc[:, :] = scaler1.transform(test_enc[:, :])\n",
    "#print(test_enc[:, :])"
   ]
  },
  {
   "cell_type": "code",
   "execution_count": 12,
   "metadata": {},
   "outputs": [],
   "source": [
    "import numpy.random as nr\n",
    "import sklearn.model_selection as ms\n",
    "## Randomly sample cases to create independent training and test data\n",
    "nr.seed(9988)\n",
    "indx = range(Features.shape[0])\n",
    "indx = ms.train_test_split(indx, test_size = 0.2)\n",
    "x_train = Features[indx[0],:]\n",
    "y_train = np.ravel(Labels[indx[0]])\n",
    "x_test = Features[indx[1],:]\n",
    "y_test = np.ravel(Labels[indx[1]])"
   ]
  },
  {
   "cell_type": "code",
   "execution_count": 13,
   "metadata": {},
   "outputs": [],
   "source": [
    "indx1 = range(x_train.shape[0])\n",
    "indx1 = ms.train_test_split(indx1, test_size = 0.2)\n",
    "x_train1 = x_train[indx1[0],:]\n",
    "y_train1 = np.ravel(y_train[indx1[0]])\n",
    "x_train_val = x_train[indx1[1],:]\n",
    "y_train_val = np.ravel(y_train[indx1[1]])"
   ]
  },
  {
   "cell_type": "code",
   "execution_count": 14,
   "metadata": {},
   "outputs": [
    {
     "name": "stdout",
     "output_type": "stream",
     "text": [
      "[0]\tvalidation_0-rmse:0.68105\tvalidation_1-rmse:0.68108\n",
      "Multiple eval metrics have been passed: 'validation_1-rmse' will be used for early stopping.\n",
      "\n",
      "Will train until validation_1-rmse hasn't improved in 10 rounds.\n",
      "[1]\tvalidation_0-rmse:0.67386\tvalidation_1-rmse:0.67425\n",
      "[2]\tvalidation_0-rmse:0.66721\tvalidation_1-rmse:0.66737\n",
      "[3]\tvalidation_0-rmse:0.66070\tvalidation_1-rmse:0.66084\n",
      "[4]\tvalidation_0-rmse:0.65397\tvalidation_1-rmse:0.65424\n",
      "[5]\tvalidation_0-rmse:0.64728\tvalidation_1-rmse:0.64753\n",
      "[6]\tvalidation_0-rmse:0.64118\tvalidation_1-rmse:0.64118\n",
      "[7]\tvalidation_0-rmse:0.63456\tvalidation_1-rmse:0.63475\n",
      "[8]\tvalidation_0-rmse:0.62829\tvalidation_1-rmse:0.62831\n",
      "[9]\tvalidation_0-rmse:0.62186\tvalidation_1-rmse:0.62206\n",
      "[10]\tvalidation_0-rmse:0.61569\tvalidation_1-rmse:0.61591\n",
      "[11]\tvalidation_0-rmse:0.60956\tvalidation_1-rmse:0.60976\n",
      "[12]\tvalidation_0-rmse:0.60344\tvalidation_1-rmse:0.60363\n",
      "[13]\tvalidation_0-rmse:0.59745\tvalidation_1-rmse:0.59750\n",
      "[14]\tvalidation_0-rmse:0.59140\tvalidation_1-rmse:0.59163\n",
      "[15]\tvalidation_0-rmse:0.58579\tvalidation_1-rmse:0.58570\n",
      "[16]\tvalidation_0-rmse:0.57971\tvalidation_1-rmse:0.57983\n",
      "[17]\tvalidation_0-rmse:0.57378\tvalidation_1-rmse:0.57409\n",
      "[18]\tvalidation_0-rmse:0.56824\tvalidation_1-rmse:0.56834\n",
      "[19]\tvalidation_0-rmse:0.56279\tvalidation_1-rmse:0.56263\n",
      "[20]\tvalidation_0-rmse:0.55690\tvalidation_1-rmse:0.55711\n",
      "[21]\tvalidation_0-rmse:0.55143\tvalidation_1-rmse:0.55153\n",
      "[22]\tvalidation_0-rmse:0.54612\tvalidation_1-rmse:0.54603\n",
      "[23]\tvalidation_0-rmse:0.54067\tvalidation_1-rmse:0.54062\n",
      "[24]\tvalidation_0-rmse:0.53532\tvalidation_1-rmse:0.53515\n",
      "[25]\tvalidation_0-rmse:0.53000\tvalidation_1-rmse:0.52984\n",
      "[26]\tvalidation_0-rmse:0.52469\tvalidation_1-rmse:0.52456\n",
      "[27]\tvalidation_0-rmse:0.51939\tvalidation_1-rmse:0.51939\n",
      "[28]\tvalidation_0-rmse:0.51424\tvalidation_1-rmse:0.51417\n",
      "[29]\tvalidation_0-rmse:0.50892\tvalidation_1-rmse:0.50904\n",
      "[30]\tvalidation_0-rmse:0.50384\tvalidation_1-rmse:0.50399\n",
      "[31]\tvalidation_0-rmse:0.49903\tvalidation_1-rmse:0.49906\n",
      "[32]\tvalidation_0-rmse:0.49390\tvalidation_1-rmse:0.49401\n",
      "[33]\tvalidation_0-rmse:0.48892\tvalidation_1-rmse:0.48916\n",
      "[34]\tvalidation_0-rmse:0.48423\tvalidation_1-rmse:0.48431\n",
      "[35]\tvalidation_0-rmse:0.47926\tvalidation_1-rmse:0.47947\n",
      "[36]\tvalidation_0-rmse:0.47453\tvalidation_1-rmse:0.47468\n",
      "[37]\tvalidation_0-rmse:0.46995\tvalidation_1-rmse:0.47002\n",
      "[38]\tvalidation_0-rmse:0.46519\tvalidation_1-rmse:0.46537\n",
      "[39]\tvalidation_0-rmse:0.46049\tvalidation_1-rmse:0.46066\n",
      "[40]\tvalidation_0-rmse:0.45617\tvalidation_1-rmse:0.45618\n",
      "[41]\tvalidation_0-rmse:0.45154\tvalidation_1-rmse:0.45164\n",
      "[42]\tvalidation_0-rmse:0.44710\tvalidation_1-rmse:0.44707\n",
      "[43]\tvalidation_0-rmse:0.44255\tvalidation_1-rmse:0.44271\n",
      "[44]\tvalidation_0-rmse:0.43821\tvalidation_1-rmse:0.43833\n",
      "[45]\tvalidation_0-rmse:0.43389\tvalidation_1-rmse:0.43399\n",
      "[46]\tvalidation_0-rmse:0.42958\tvalidation_1-rmse:0.42967\n",
      "[47]\tvalidation_0-rmse:0.42528\tvalidation_1-rmse:0.42540\n",
      "[48]\tvalidation_0-rmse:0.42107\tvalidation_1-rmse:0.42116\n",
      "[49]\tvalidation_0-rmse:0.41684\tvalidation_1-rmse:0.41702\n",
      "[50]\tvalidation_0-rmse:0.41290\tvalidation_1-rmse:0.41288\n",
      "[51]\tvalidation_0-rmse:0.40858\tvalidation_1-rmse:0.40876\n",
      "[52]\tvalidation_0-rmse:0.40473\tvalidation_1-rmse:0.40471\n",
      "[53]\tvalidation_0-rmse:0.40057\tvalidation_1-rmse:0.40073\n",
      "[54]\tvalidation_0-rmse:0.39672\tvalidation_1-rmse:0.39679\n",
      "[55]\tvalidation_0-rmse:0.39288\tvalidation_1-rmse:0.39284\n",
      "[56]\tvalidation_0-rmse:0.38878\tvalidation_1-rmse:0.38897\n",
      "[57]\tvalidation_0-rmse:0.38499\tvalidation_1-rmse:0.38512\n",
      "[58]\tvalidation_0-rmse:0.38114\tvalidation_1-rmse:0.38131\n",
      "[59]\tvalidation_0-rmse:0.37737\tvalidation_1-rmse:0.37748\n",
      "[60]\tvalidation_0-rmse:0.37366\tvalidation_1-rmse:0.37382\n",
      "[61]\tvalidation_0-rmse:0.36992\tvalidation_1-rmse:0.37011\n",
      "[62]\tvalidation_0-rmse:0.36629\tvalidation_1-rmse:0.36642\n",
      "[63]\tvalidation_0-rmse:0.36289\tvalidation_1-rmse:0.36280\n",
      "[64]\tvalidation_0-rmse:0.35929\tvalidation_1-rmse:0.35922\n",
      "[65]\tvalidation_0-rmse:0.35555\tvalidation_1-rmse:0.35567\n",
      "[66]\tvalidation_0-rmse:0.35203\tvalidation_1-rmse:0.35220\n",
      "[67]\tvalidation_0-rmse:0.34870\tvalidation_1-rmse:0.34867\n",
      "[68]\tvalidation_0-rmse:0.34515\tvalidation_1-rmse:0.34525\n",
      "[69]\tvalidation_0-rmse:0.34188\tvalidation_1-rmse:0.34184\n",
      "[70]\tvalidation_0-rmse:0.33838\tvalidation_1-rmse:0.33852\n",
      "[71]\tvalidation_0-rmse:0.33507\tvalidation_1-rmse:0.33514\n",
      "[72]\tvalidation_0-rmse:0.33183\tvalidation_1-rmse:0.33187\n",
      "[73]\tvalidation_0-rmse:0.32850\tvalidation_1-rmse:0.32862\n",
      "[74]\tvalidation_0-rmse:0.32523\tvalidation_1-rmse:0.32538\n",
      "[75]\tvalidation_0-rmse:0.32213\tvalidation_1-rmse:0.32215\n",
      "[76]\tvalidation_0-rmse:0.31904\tvalidation_1-rmse:0.31896\n",
      "[77]\tvalidation_0-rmse:0.31580\tvalidation_1-rmse:0.31585\n",
      "[78]\tvalidation_0-rmse:0.31270\tvalidation_1-rmse:0.31272\n",
      "[79]\tvalidation_0-rmse:0.30964\tvalidation_1-rmse:0.30963\n",
      "[80]\tvalidation_0-rmse:0.30658\tvalidation_1-rmse:0.30658\n",
      "[81]\tvalidation_0-rmse:0.30353\tvalidation_1-rmse:0.30358\n",
      "[82]\tvalidation_0-rmse:0.30053\tvalidation_1-rmse:0.30062\n",
      "[83]\tvalidation_0-rmse:0.29770\tvalidation_1-rmse:0.29763\n",
      "[84]\tvalidation_0-rmse:0.29471\tvalidation_1-rmse:0.29475\n",
      "[85]\tvalidation_0-rmse:0.29172\tvalidation_1-rmse:0.29185\n",
      "[86]\tvalidation_0-rmse:0.28899\tvalidation_1-rmse:0.28899\n",
      "[87]\tvalidation_0-rmse:0.28603\tvalidation_1-rmse:0.28615\n",
      "[88]\tvalidation_0-rmse:0.28332\tvalidation_1-rmse:0.28336\n",
      "[89]\tvalidation_0-rmse:0.28060\tvalidation_1-rmse:0.28054\n",
      "[90]\tvalidation_0-rmse:0.27770\tvalidation_1-rmse:0.27781\n",
      "[91]\tvalidation_0-rmse:0.27498\tvalidation_1-rmse:0.27507\n",
      "[92]\tvalidation_0-rmse:0.27234\tvalidation_1-rmse:0.27240\n",
      "[93]\tvalidation_0-rmse:0.26971\tvalidation_1-rmse:0.26975\n",
      "[94]\tvalidation_0-rmse:0.26708\tvalidation_1-rmse:0.26711\n",
      "[95]\tvalidation_0-rmse:0.26444\tvalidation_1-rmse:0.26448\n",
      "[96]\tvalidation_0-rmse:0.26180\tvalidation_1-rmse:0.26187\n",
      "[97]\tvalidation_0-rmse:0.25920\tvalidation_1-rmse:0.25933\n",
      "[98]\tvalidation_0-rmse:0.25667\tvalidation_1-rmse:0.25681\n",
      "[99]\tvalidation_0-rmse:0.25427\tvalidation_1-rmse:0.25430\n",
      "[100]\tvalidation_0-rmse:0.25172\tvalidation_1-rmse:0.25179\n",
      "[101]\tvalidation_0-rmse:0.24924\tvalidation_1-rmse:0.24936\n",
      "[102]\tvalidation_0-rmse:0.24690\tvalidation_1-rmse:0.24689\n",
      "[103]\tvalidation_0-rmse:0.24441\tvalidation_1-rmse:0.24449\n",
      "[104]\tvalidation_0-rmse:0.24211\tvalidation_1-rmse:0.24212\n",
      "[105]\tvalidation_0-rmse:0.23966\tvalidation_1-rmse:0.23978\n",
      "[106]\tvalidation_0-rmse:0.23733\tvalidation_1-rmse:0.23741\n",
      "[107]\tvalidation_0-rmse:0.23515\tvalidation_1-rmse:0.23511\n",
      "[108]\tvalidation_0-rmse:0.23277\tvalidation_1-rmse:0.23283\n",
      "[109]\tvalidation_0-rmse:0.23053\tvalidation_1-rmse:0.23056\n",
      "[110]\tvalidation_0-rmse:0.22823\tvalidation_1-rmse:0.22832\n",
      "[111]\tvalidation_0-rmse:0.22608\tvalidation_1-rmse:0.22613\n",
      "[112]\tvalidation_0-rmse:0.22391\tvalidation_1-rmse:0.22390\n",
      "[113]\tvalidation_0-rmse:0.22177\tvalidation_1-rmse:0.22173\n",
      "[114]\tvalidation_0-rmse:0.21963\tvalidation_1-rmse:0.21958\n",
      "[115]\tvalidation_0-rmse:0.21749\tvalidation_1-rmse:0.21745\n",
      "[116]\tvalidation_0-rmse:0.21535\tvalidation_1-rmse:0.21535\n",
      "[117]\tvalidation_0-rmse:0.21324\tvalidation_1-rmse:0.21329\n",
      "[118]\tvalidation_0-rmse:0.21111\tvalidation_1-rmse:0.21120\n",
      "[119]\tvalidation_0-rmse:0.20918\tvalidation_1-rmse:0.20916\n",
      "[120]\tvalidation_0-rmse:0.20710\tvalidation_1-rmse:0.20716\n",
      "[121]\tvalidation_0-rmse:0.20504\tvalidation_1-rmse:0.20515\n",
      "[122]\tvalidation_0-rmse:0.20310\tvalidation_1-rmse:0.20316\n",
      "[123]\tvalidation_0-rmse:0.20121\tvalidation_1-rmse:0.20121\n",
      "[124]\tvalidation_0-rmse:0.19917\tvalidation_1-rmse:0.19928\n",
      "[125]\tvalidation_0-rmse:0.19726\tvalidation_1-rmse:0.19734\n",
      "[126]\tvalidation_0-rmse:0.19541\tvalidation_1-rmse:0.19546\n",
      "[127]\tvalidation_0-rmse:0.19355\tvalidation_1-rmse:0.19356\n",
      "[128]\tvalidation_0-rmse:0.19171\tvalidation_1-rmse:0.19171\n",
      "[129]\tvalidation_0-rmse:0.18986\tvalidation_1-rmse:0.18986\n",
      "[130]\tvalidation_0-rmse:0.18802\tvalidation_1-rmse:0.18804\n",
      "[131]\tvalidation_0-rmse:0.18618\tvalidation_1-rmse:0.18624\n",
      "[132]\tvalidation_0-rmse:0.18435\tvalidation_1-rmse:0.18446\n",
      "[133]\tvalidation_0-rmse:0.18259\tvalidation_1-rmse:0.18270\n",
      "[134]\tvalidation_0-rmse:0.18092\tvalidation_1-rmse:0.18094\n",
      "[135]\tvalidation_0-rmse:0.17912\tvalidation_1-rmse:0.17919\n",
      "[136]\tvalidation_0-rmse:0.17743\tvalidation_1-rmse:0.17750\n",
      "[137]\tvalidation_0-rmse:0.17576\tvalidation_1-rmse:0.17581\n",
      "[138]\tvalidation_0-rmse:0.17402\tvalidation_1-rmse:0.17413\n",
      "[139]\tvalidation_0-rmse:0.17240\tvalidation_1-rmse:0.17246\n",
      "[140]\tvalidation_0-rmse:0.17080\tvalidation_1-rmse:0.17081\n"
     ]
    },
    {
     "name": "stdout",
     "output_type": "stream",
     "text": [
      "[141]\tvalidation_0-rmse:0.16909\tvalidation_1-rmse:0.16919\n",
      "[142]\tvalidation_0-rmse:0.16753\tvalidation_1-rmse:0.16759\n",
      "[143]\tvalidation_0-rmse:0.16594\tvalidation_1-rmse:0.16600\n",
      "[144]\tvalidation_0-rmse:0.16434\tvalidation_1-rmse:0.16442\n",
      "[145]\tvalidation_0-rmse:0.16279\tvalidation_1-rmse:0.16284\n",
      "[146]\tvalidation_0-rmse:0.16121\tvalidation_1-rmse:0.16132\n",
      "[147]\tvalidation_0-rmse:0.15970\tvalidation_1-rmse:0.15979\n",
      "[148]\tvalidation_0-rmse:0.15819\tvalidation_1-rmse:0.15826\n",
      "[149]\tvalidation_0-rmse:0.15669\tvalidation_1-rmse:0.15677\n",
      "[150]\tvalidation_0-rmse:0.15521\tvalidation_1-rmse:0.15530\n",
      "[151]\tvalidation_0-rmse:0.15373\tvalidation_1-rmse:0.15384\n",
      "[152]\tvalidation_0-rmse:0.15234\tvalidation_1-rmse:0.15238\n",
      "[153]\tvalidation_0-rmse:0.15088\tvalidation_1-rmse:0.15095\n",
      "[154]\tvalidation_0-rmse:0.14945\tvalidation_1-rmse:0.14953\n",
      "[155]\tvalidation_0-rmse:0.14809\tvalidation_1-rmse:0.14812\n",
      "[156]\tvalidation_0-rmse:0.14664\tvalidation_1-rmse:0.14674\n",
      "[157]\tvalidation_0-rmse:0.14531\tvalidation_1-rmse:0.14537\n",
      "[158]\tvalidation_0-rmse:0.14392\tvalidation_1-rmse:0.14400\n",
      "[159]\tvalidation_0-rmse:0.14256\tvalidation_1-rmse:0.14266\n",
      "[160]\tvalidation_0-rmse:0.14125\tvalidation_1-rmse:0.14133\n",
      "[161]\tvalidation_0-rmse:0.13996\tvalidation_1-rmse:0.14001\n",
      "[162]\tvalidation_0-rmse:0.13865\tvalidation_1-rmse:0.13870\n",
      "[163]\tvalidation_0-rmse:0.13737\tvalidation_1-rmse:0.13741\n",
      "[164]\tvalidation_0-rmse:0.13608\tvalidation_1-rmse:0.13614\n",
      "[165]\tvalidation_0-rmse:0.13482\tvalidation_1-rmse:0.13488\n",
      "[166]\tvalidation_0-rmse:0.13354\tvalidation_1-rmse:0.13363\n",
      "[167]\tvalidation_0-rmse:0.13229\tvalidation_1-rmse:0.13239\n",
      "[168]\tvalidation_0-rmse:0.13108\tvalidation_1-rmse:0.13117\n",
      "[169]\tvalidation_0-rmse:0.12992\tvalidation_1-rmse:0.12996\n",
      "[170]\tvalidation_0-rmse:0.12866\tvalidation_1-rmse:0.12877\n",
      "[171]\tvalidation_0-rmse:0.12753\tvalidation_1-rmse:0.12757\n",
      "[172]\tvalidation_0-rmse:0.12631\tvalidation_1-rmse:0.12640\n",
      "[173]\tvalidation_0-rmse:0.12520\tvalidation_1-rmse:0.12524\n",
      "[174]\tvalidation_0-rmse:0.12400\tvalidation_1-rmse:0.12409\n",
      "[175]\tvalidation_0-rmse:0.12290\tvalidation_1-rmse:0.12297\n",
      "[176]\tvalidation_0-rmse:0.12176\tvalidation_1-rmse:0.12185\n",
      "[177]\tvalidation_0-rmse:0.12064\tvalidation_1-rmse:0.12075\n",
      "[178]\tvalidation_0-rmse:0.11957\tvalidation_1-rmse:0.11965\n",
      "[179]\tvalidation_0-rmse:0.11848\tvalidation_1-rmse:0.11856\n",
      "[180]\tvalidation_0-rmse:0.11742\tvalidation_1-rmse:0.11748\n",
      "[181]\tvalidation_0-rmse:0.11632\tvalidation_1-rmse:0.11642\n",
      "[182]\tvalidation_0-rmse:0.11527\tvalidation_1-rmse:0.11536\n",
      "[183]\tvalidation_0-rmse:0.11423\tvalidation_1-rmse:0.11433\n",
      "[184]\tvalidation_0-rmse:0.11320\tvalidation_1-rmse:0.11330\n",
      "[185]\tvalidation_0-rmse:0.11219\tvalidation_1-rmse:0.11229\n",
      "[186]\tvalidation_0-rmse:0.11117\tvalidation_1-rmse:0.11128\n",
      "[187]\tvalidation_0-rmse:0.11020\tvalidation_1-rmse:0.11028\n",
      "[188]\tvalidation_0-rmse:0.10923\tvalidation_1-rmse:0.10929\n",
      "[189]\tvalidation_0-rmse:0.10823\tvalidation_1-rmse:0.10833\n",
      "[190]\tvalidation_0-rmse:0.10725\tvalidation_1-rmse:0.10737\n",
      "[191]\tvalidation_0-rmse:0.10631\tvalidation_1-rmse:0.10642\n",
      "[192]\tvalidation_0-rmse:0.10540\tvalidation_1-rmse:0.10547\n",
      "[193]\tvalidation_0-rmse:0.10444\tvalidation_1-rmse:0.10454\n",
      "[194]\tvalidation_0-rmse:0.10352\tvalidation_1-rmse:0.10362\n",
      "[195]\tvalidation_0-rmse:0.10261\tvalidation_1-rmse:0.10271\n",
      "[196]\tvalidation_0-rmse:0.10171\tvalidation_1-rmse:0.10181\n",
      "[197]\tvalidation_0-rmse:0.10083\tvalidation_1-rmse:0.10092\n",
      "[198]\tvalidation_0-rmse:0.09995\tvalidation_1-rmse:0.10004\n",
      "[199]\tvalidation_0-rmse:0.09907\tvalidation_1-rmse:0.09917\n"
     ]
    },
    {
     "data": {
      "text/plain": [
       "XGBRegressor(base_score=0.7, booster='gbtree', colsample_bylevel=1,\n",
       "       colsample_bynode=1, colsample_bytree=1, gamma=0, gpu_id=-1,\n",
       "       importance_type='gain', interaction_constraints=None,\n",
       "       learning_rate=0.01, max_delta_step=0, max_depth=8,\n",
       "       min_child_weight=1, missing=nan, monotone_constraints=None,\n",
       "       n_estimators=200, n_jobs=0, num_parallel_tree=1,\n",
       "       objective='reg:logistic', random_state=123, reg_alpha=0,\n",
       "       reg_lambda=0.03, scale_pos_weight=1, seed=123, subsample=0.8,\n",
       "       tree_method=None, validate_parameters=False, verbosity=None)"
      ]
     },
     "execution_count": 14,
     "metadata": {},
     "output_type": "execute_result"
    }
   ],
   "source": [
    "xg_reg = xgb.XGBRegressor(objective = 'reg:logistic', n_estimators = 200, seed = 123, max_depth = 8,\n",
    "                           learning_rate=0.01, booster = 'gbtree', base_score = 0.7, subsample = 0.8,\n",
    "                           reg_lambda = 0.03)\n",
    "\n",
    "eval_set = [(x_train1, y_train1), (x_test, y_test)]\n",
    "xg_reg.fit(x_train1, y_train1, eval_metric=\"rmse\", eval_set=eval_set, verbose=True, early_stopping_rounds = 10)"
   ]
  },
  {
   "cell_type": "code",
   "execution_count": 15,
   "metadata": {},
   "outputs": [],
   "source": [
    "preds = xg_reg.predict(x_train_val)"
   ]
  },
  {
   "cell_type": "code",
   "execution_count": 16,
   "metadata": {},
   "outputs": [
    {
     "data": {
      "text/plain": [
       "array([0.09439146, 0.09439146, 0.0943048 , ..., 0.0943048 , 0.09430378,\n",
       "       0.0943048 ], dtype=float32)"
      ]
     },
     "execution_count": 16,
     "metadata": {},
     "output_type": "execute_result"
    }
   ],
   "source": [
    "preds"
   ]
  },
  {
   "cell_type": "code",
   "execution_count": 17,
   "metadata": {},
   "outputs": [
    {
     "data": {
      "text/plain": [
       "0.0995809186435839"
      ]
     },
     "execution_count": 17,
     "metadata": {},
     "output_type": "execute_result"
    }
   ],
   "source": [
    "from sklearn.metrics import mean_squared_error\n",
    "\n",
    "mean_squared_error(y_train_val, preds)**0.5"
   ]
  },
  {
   "cell_type": "code",
   "execution_count": 18,
   "metadata": {},
   "outputs": [],
   "source": [
    "test_pred = xg_reg.predict(test_enc)"
   ]
  },
  {
   "cell_type": "code",
   "execution_count": 19,
   "metadata": {},
   "outputs": [
    {
     "data": {
      "text/plain": [
       "(137556, 21)"
      ]
     },
     "execution_count": 19,
     "metadata": {},
     "output_type": "execute_result"
    }
   ],
   "source": [
    "test.shape"
   ]
  },
  {
   "cell_type": "code",
   "execution_count": 20,
   "metadata": {},
   "outputs": [],
   "source": [
    "submissions.Prediction = test_pred"
   ]
  },
  {
   "cell_type": "code",
   "execution_count": 21,
   "metadata": {},
   "outputs": [
    {
     "data": {
      "text/html": [
       "<div>\n",
       "<style scoped>\n",
       "    .dataframe tbody tr th:only-of-type {\n",
       "        vertical-align: middle;\n",
       "    }\n",
       "\n",
       "    .dataframe tbody tr th {\n",
       "        vertical-align: top;\n",
       "    }\n",
       "\n",
       "    .dataframe thead th {\n",
       "        text-align: right;\n",
       "    }\n",
       "</style>\n",
       "<table border=\"1\" class=\"dataframe\">\n",
       "  <thead>\n",
       "    <tr style=\"text-align: right;\">\n",
       "      <th></th>\n",
       "      <th>ID</th>\n",
       "      <th>Prediction</th>\n",
       "    </tr>\n",
       "  </thead>\n",
       "  <tbody>\n",
       "    <tr>\n",
       "      <th>0</th>\n",
       "      <td>0_2014-01-01</td>\n",
       "      <td>0.222586</td>\n",
       "    </tr>\n",
       "    <tr>\n",
       "      <th>1</th>\n",
       "      <td>1_2014-01-01</td>\n",
       "      <td>0.215696</td>\n",
       "    </tr>\n",
       "    <tr>\n",
       "      <th>2</th>\n",
       "      <td>2_2014-01-01</td>\n",
       "      <td>0.304010</td>\n",
       "    </tr>\n",
       "    <tr>\n",
       "      <th>3</th>\n",
       "      <td>3_2014-01-01</td>\n",
       "      <td>0.216214</td>\n",
       "    </tr>\n",
       "    <tr>\n",
       "      <th>4</th>\n",
       "      <td>4_2014-01-01</td>\n",
       "      <td>0.253072</td>\n",
       "    </tr>\n",
       "  </tbody>\n",
       "</table>\n",
       "</div>"
      ],
      "text/plain": [
       "             ID  Prediction\n",
       "0  0_2014-01-01    0.222586\n",
       "1  1_2014-01-01    0.215696\n",
       "2  2_2014-01-01    0.304010\n",
       "3  3_2014-01-01    0.216214\n",
       "4  4_2014-01-01    0.253072"
      ]
     },
     "execution_count": 21,
     "metadata": {},
     "output_type": "execute_result"
    }
   ],
   "source": [
    "submissions.head()"
   ]
  },
  {
   "cell_type": "code",
   "execution_count": 22,
   "metadata": {},
   "outputs": [],
   "source": [
    "submissions.to_csv('HotspotSubmission3.csv', index=False)"
   ]
  },
  {
   "cell_type": "code",
   "execution_count": 27,
   "metadata": {},
   "outputs": [
    {
     "ename": "ImportError",
     "evalue": "cannot import name 'load' from 'sklearn.externals' (C:\\Users\\hp\\Anaconda3\\lib\\site-packages\\sklearn\\externals\\__init__.py)",
     "output_type": "error",
     "traceback": [
      "\u001b[1;31m---------------------------------------------------------------------------\u001b[0m",
      "\u001b[1;31mImportError\u001b[0m                               Traceback (most recent call last)",
      "\u001b[1;32m<ipython-input-27-35e3325f162f>\u001b[0m in \u001b[0;36m<module>\u001b[1;34m()\u001b[0m\n\u001b[1;32m----> 1\u001b[1;33m \u001b[1;32mfrom\u001b[0m \u001b[0msklearn\u001b[0m\u001b[1;33m.\u001b[0m\u001b[0mexternals\u001b[0m \u001b[1;32mimport\u001b[0m \u001b[0mjoblib\u001b[0m\u001b[1;33m,\u001b[0m \u001b[0mload\u001b[0m\u001b[1;33m\u001b[0m\u001b[0m\n\u001b[0m\u001b[0;32m      2\u001b[0m \u001b[0mjoblib\u001b[0m\u001b[1;33m.\u001b[0m\u001b[0mdump\u001b[0m\u001b[1;33m(\u001b[0m\u001b[0mxg_reg\u001b[0m\u001b[1;33m,\u001b[0m \u001b[1;34m'xgmodel.joblib'\u001b[0m\u001b[1;33m)\u001b[0m\u001b[1;33m\u001b[0m\u001b[0m\n",
      "\u001b[1;31mImportError\u001b[0m: cannot import name 'load' from 'sklearn.externals' (C:\\Users\\hp\\Anaconda3\\lib\\site-packages\\sklearn\\externals\\__init__.py)"
     ]
    }
   ],
   "source": [
    "from sklearn.externals import joblib, load\n",
    "joblib.dump(xg_reg, 'xgmodel.joblib')"
   ]
  },
  {
   "cell_type": "code",
   "execution_count": 29,
   "metadata": {},
   "outputs": [],
   "source": [
    "from joblib import load\n",
    "model = load('xgmodel.joblib')"
   ]
  },
  {
   "cell_type": "code",
   "execution_count": 30,
   "metadata": {},
   "outputs": [
    {
     "data": {
      "text/plain": [
       "XGBRegressor(base_score=0.7, booster='gbtree', colsample_bylevel=1,\n",
       "       colsample_bynode=1, colsample_bytree=1, gamma=0, gpu_id=-1,\n",
       "       importance_type='gain', interaction_constraints=None,\n",
       "       learning_rate=0.01, max_delta_step=0, max_depth=8,\n",
       "       min_child_weight=1, missing=nan, monotone_constraints=None,\n",
       "       n_estimators=200, n_jobs=0, num_parallel_tree=1,\n",
       "       objective='reg:logistic', random_state=123, reg_alpha=0,\n",
       "       reg_lambda=0.03, scale_pos_weight=1, seed=123, subsample=0.8,\n",
       "       tree_method=None, validate_parameters=False, verbosity=None)"
      ]
     },
     "execution_count": 30,
     "metadata": {},
     "output_type": "execute_result"
    }
   ],
   "source": [
    "model"
   ]
  },
  {
   "cell_type": "code",
   "execution_count": 31,
   "metadata": {},
   "outputs": [
    {
     "data": {
      "text/plain": [
       "array([0.09439146, 0.11986427, 0.09439146, ..., 0.0943048 , 0.09448704,\n",
       "       0.09448765], dtype=float32)"
      ]
     },
     "execution_count": 31,
     "metadata": {},
     "output_type": "execute_result"
    }
   ],
   "source": [
    "model.predict(x_test)"
   ]
  },
  {
   "cell_type": "code",
   "execution_count": null,
   "metadata": {},
   "outputs": [],
   "source": []
  }
 ],
 "metadata": {
  "kernelspec": {
   "display_name": "Python 3",
   "language": "python",
   "name": "python3"
  },
  "language_info": {
   "codemirror_mode": {
    "name": "ipython",
    "version": 3
   },
   "file_extension": ".py",
   "mimetype": "text/x-python",
   "name": "python",
   "nbconvert_exporter": "python",
   "pygments_lexer": "ipython3",
   "version": "3.7.0"
  }
 },
 "nbformat": 4,
 "nbformat_minor": 2
}
